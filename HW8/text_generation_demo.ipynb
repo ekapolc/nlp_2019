{
 "cells": [
  {
   "cell_type": "markdown",
   "metadata": {},
   "source": [
    "# Text Generation Demo on Keras: Date Generation (One-to-Many)\n",
    "\n",
    "In this demo, we will show you how to create a text generator using Keras. This demo is inspired by Andrew Ng's deeplearning.ai course on sequence models. (Programming Assignments: Dinosaur Island - Character-Level Language Modeling, and Jazz improvisation with LSTM)    In this demo, we create a one-to-many RNN model for generating date in the following format: e.g. \"2002-03-11\".  "
   ]
  },
  {
   "cell_type": "code",
   "execution_count": 1,
   "metadata": {},
   "outputs": [
    {
     "name": "stderr",
     "output_type": "stream",
     "text": [
      "Using TensorFlow backend.\n"
     ]
    }
   ],
   "source": [
    "import csv\n",
    "import numpy as np\n",
    "import random\n",
    "import math\n",
    "import sys\n",
    "\n",
    "from keras.callbacks import LambdaCallback\n",
    "from keras.backend import argmax,one_hot,tf\n",
    "from keras.models import Sequential, Model\n",
    "from keras.layers import Dense, Activation, Reshape, Input, Lambda\n",
    "from keras.layers import SimpleRNN\n",
    "from keras.optimizers import Adam\n",
    "from keras.preprocessing.sequence import pad_sequences\n",
    "from keras.utils import to_categorical"
   ]
  },
  {
   "cell_type": "markdown",
   "metadata": {},
   "source": [
    "## Generate Dataset\n",
    "We generate a toy dataset using datetime library.  The target output only comes in one format (iso format). "
   ]
  },
  {
   "cell_type": "code",
   "execution_count": 2,
   "metadata": {},
   "outputs": [
    {
     "name": "stdout",
     "output_type": "stream",
     "text": [
      "2018-03-18\n"
     ]
    }
   ],
   "source": [
    "#Generating a toy dataset\n",
    "import datetime\n",
    "base = datetime.datetime.today()\n",
    "base = datetime.date(base.year, base.month, base.day)\n",
    "date_list = [base - datetime.timedelta(days=x) for x in range(0, 1500)]\n",
    "data = [date.isoformat() for date in date_list] \n",
    "print(data[0])\n",
    "maxlen=10 #all the seqeunces have 10 characters"
   ]
  },
  {
   "cell_type": "code",
   "execution_count": 3,
   "metadata": {},
   "outputs": [
    {
     "name": "stdout",
     "output_type": "stream",
     "text": [
      "There are 1500 lines and 11 unique characters in your data.\n",
      "max length = 10\n"
     ]
    }
   ],
   "source": [
    "chars = list(set(''.join(data)))\n",
    "data_size, vocab_size = len(data), len(chars)\n",
    "print('There are %d lines and %d unique characters in your data.' % (data_size, vocab_size))\n",
    "print(\"max length =\",maxlen)\n",
    "sorted_chars= sorted(chars)"
   ]
  },
  {
   "cell_type": "code",
   "execution_count": 4,
   "metadata": {},
   "outputs": [
    {
     "name": "stdout",
     "output_type": "stream",
     "text": [
      "['<S>', '-', '0', '1', '2', '3', '4', '5', '6', '7', '8', '9']\n",
      "12\n"
     ]
    }
   ],
   "source": [
    "# In this demo, we will use \"<S>\" as a seed character to initiate the sequence\n",
    "sorted_chars.insert(0,\"<S>\") \n",
    "print(sorted_chars)\n",
    "vocab_size = len (sorted_chars)\n",
    "print(vocab_size)"
   ]
  },
  {
   "cell_type": "markdown",
   "metadata": {},
   "source": [
    "Create a dictionary to map a character to an integer, and a reverse dictionary that does the opposite."
   ]
  },
  {
   "cell_type": "code",
   "execution_count": 5,
   "metadata": {},
   "outputs": [
    {
     "name": "stdout",
     "output_type": "stream",
     "text": [
      "{0: '<S>', 1: '-', 2: '0', 3: '1', 4: '2', 5: '3', 6: '4', 7: '5', 8: '6', 9: '7', 10: '8', 11: '9'}\n"
     ]
    }
   ],
   "source": [
    "char_to_ix = { ch:i for i,ch in enumerate(sorted_chars) }\n",
    "ix_to_char = { i:ch for i,ch in enumerate(sorted_chars) } #reverse dictionary\n",
    "print(ix_to_char)"
   ]
  },
  {
   "cell_type": "markdown",
   "metadata": {},
   "source": [
    "# Preprocessing data for Keras"
   ]
  },
  {
   "cell_type": "code",
   "execution_count": 6,
   "metadata": {},
   "outputs": [
    {
     "name": "stdout",
     "output_type": "stream",
     "text": [
      "(1500, 10, 12) (10, 1500, 12)\n"
     ]
    }
   ],
   "source": [
    "#Preparing output data for the model\n",
    "Y = []\n",
    "for line in data:\n",
    "    temp=[]\n",
    "    for char in line:\n",
    "        temp.append(char_to_ix[char]) #character to index\n",
    "    Y.append(temp)\n",
    "pre_Y = Y    \n",
    "\n",
    "#Preparing input data for the model\n",
    "#The first element of the sequence is an initial seed\n",
    "#The rest is just like Y but shifted by one-time-step \n",
    "X = []\n",
    "for item in Y:\n",
    "    X.append([0]+item[:-1]) #Add initial seeed and shift X by one time step\n",
    "pre_X = X        \n",
    "    \n",
    "#Preparing data for Keras    \n",
    "X= to_categorical(X,vocab_size) #one-hot\n",
    "Y= to_categorical(Y,vocab_size)\n",
    "X=X.reshape(data_size,maxlen ,vocab_size)\n",
    "Y=Y.reshape(data_size,maxlen ,vocab_size)\n",
    "Y= np.swapaxes(Y,0,1)\n",
    "\n",
    "print(X.shape,Y.shape)"
   ]
  },
  {
   "cell_type": "code",
   "execution_count": 7,
   "metadata": {},
   "outputs": [
    {
     "name": "stdout",
     "output_type": "stream",
     "text": [
      "[ 1.  0.  0.  0.  0.  0.  0.  0.  0.  0.  0.  0.]\n",
      "[ 0.  0.  0.  0.  1.  0.  0.  0.  0.  0.  0.  0.]\n",
      "[ 0.  0.  1.  0.  0.  0.  0.  0.  0.  0.  0.  0.]\n",
      "[ 0.  0.  0.  1.  0.  0.  0.  0.  0.  0.  0.  0.]\n",
      "[ 0.  0.  0.  0.  0.  0.  0.  0.  0.  0.  1.  0.]\n",
      "[ 0.  1.  0.  0.  0.  0.  0.  0.  0.  0.  0.  0.]\n",
      "[ 0.  0.  1.  0.  0.  0.  0.  0.  0.  0.  0.  0.]\n",
      "[ 0.  0.  0.  0.  0.  1.  0.  0.  0.  0.  0.  0.]\n",
      "[ 0.  1.  0.  0.  0.  0.  0.  0.  0.  0.  0.  0.]\n",
      "[ 0.  0.  0.  1.  0.  0.  0.  0.  0.  0.  0.  0.]\n"
     ]
    }
   ],
   "source": [
    "for t in range(10):\n",
    "    print(X[0,t,:])"
   ]
  },
  {
   "cell_type": "markdown",
   "metadata": {},
   "source": [
    "# The model\n"
   ]
  },
  {
   "cell_type": "code",
   "execution_count": 8,
   "metadata": {
    "collapsed": true
   },
   "outputs": [],
   "source": [
    "#Shared layers (Global)\n",
    "n_a = 16 #number of hidden dimensions\n",
    "reshapor = Reshape((1,  vocab_size)) #Reshape the size of a tensor                         \n",
    "RNN_cell = SimpleRNN(n_a, return_state = True) #An RNN Cell       \n",
    "output_layer = Dense( vocab_size, activation='softmax')  #softmax output layer    "
   ]
  },
  {
   "cell_type": "code",
   "execution_count": 9,
   "metadata": {
    "collapsed": true
   },
   "outputs": [],
   "source": [
    "def train_model(Tx, n_a, n_values):\n",
    "    \"\"\"\n",
    "    Implement the model for the training phase\n",
    "    \n",
    "    Arguments:\n",
    "    Tx -- length of the sequence \n",
    "    n_a -- the number of hidden dimensions used in our model\n",
    "    n_values -- number of unique labels in the data \n",
    "    \n",
    "    Returns:\n",
    "    model -- a keras model instance\n",
    "    \"\"\"\n",
    "    \n",
    "    # Define the input of your model\n",
    "    X = Input(shape=(Tx, n_values))\n",
    "    \n",
    "    # Define a0, initial hidden state for the RNN\n",
    "    a0 = Input(shape=(n_a,), name='a0')\n",
    "    a = a0\n",
    "    \n",
    "    # Create empty list to append an output from the model in each loop\n",
    "    outputs = list()\n",
    "    \n",
    "    # Loop  through the sequence of length Tx\n",
    "    for t in range(Tx):\n",
    "        # Select the \"t\"th time step vector from X. \n",
    "        x =  Lambda(lambda x: X[:,t,:])(X)\n",
    "        # Reshape x to be (1, n_values)\n",
    "        x = reshapor(x) \n",
    "        # Update the hidden state of the RNN \n",
    "        a, _ = RNN_cell(x, initial_state=[a]) \n",
    "        # Pass the hidden vector to a softmax function\n",
    "        out = output_layer(a)\n",
    "        # Append an output list with the current output\n",
    "        outputs.append(out)\n",
    "        \n",
    "    # Create the model instance\n",
    "    model =  Model(inputs=[X,a0], outputs=outputs)    \n",
    "    return model\n",
    "    "
   ]
  },
  {
   "cell_type": "code",
   "execution_count": 10,
   "metadata": {},
   "outputs": [
    {
     "name": "stdout",
     "output_type": "stream",
     "text": [
      "____________________________________________________________________________________________________\n",
      "Layer (type)                     Output Shape          Param #     Connected to                     \n",
      "====================================================================================================\n",
      "input_1 (InputLayer)             (None, 10, 12)        0                                            \n",
      "____________________________________________________________________________________________________\n",
      "lambda_1 (Lambda)                (None, 12)            0           input_1[0][0]                    \n",
      "____________________________________________________________________________________________________\n",
      "reshape_1 (Reshape)              (None, 1, 12)         0           lambda_1[0][0]                   \n",
      "                                                                   lambda_2[0][0]                   \n",
      "                                                                   lambda_3[0][0]                   \n",
      "                                                                   lambda_4[0][0]                   \n",
      "                                                                   lambda_5[0][0]                   \n",
      "                                                                   lambda_6[0][0]                   \n",
      "                                                                   lambda_7[0][0]                   \n",
      "                                                                   lambda_8[0][0]                   \n",
      "                                                                   lambda_9[0][0]                   \n",
      "                                                                   lambda_10[0][0]                  \n",
      "____________________________________________________________________________________________________\n",
      "a0 (InputLayer)                  (None, 16)            0                                            \n",
      "____________________________________________________________________________________________________\n",
      "lambda_2 (Lambda)                (None, 12)            0           input_1[0][0]                    \n",
      "____________________________________________________________________________________________________\n",
      "simple_rnn_1 (SimpleRNN)         [(None, 16), (None, 1 464         reshape_1[0][0]                  \n",
      "                                                                   a0[0][0]                         \n",
      "                                                                   reshape_1[1][0]                  \n",
      "                                                                   simple_rnn_1[0][0]               \n",
      "                                                                   reshape_1[2][0]                  \n",
      "                                                                   simple_rnn_1[1][0]               \n",
      "                                                                   reshape_1[3][0]                  \n",
      "                                                                   simple_rnn_1[2][0]               \n",
      "                                                                   reshape_1[4][0]                  \n",
      "                                                                   simple_rnn_1[3][0]               \n",
      "                                                                   reshape_1[5][0]                  \n",
      "                                                                   simple_rnn_1[4][0]               \n",
      "                                                                   reshape_1[6][0]                  \n",
      "                                                                   simple_rnn_1[5][0]               \n",
      "                                                                   reshape_1[7][0]                  \n",
      "                                                                   simple_rnn_1[6][0]               \n",
      "                                                                   reshape_1[8][0]                  \n",
      "                                                                   simple_rnn_1[7][0]               \n",
      "                                                                   reshape_1[9][0]                  \n",
      "                                                                   simple_rnn_1[8][0]               \n",
      "____________________________________________________________________________________________________\n",
      "lambda_3 (Lambda)                (None, 12)            0           input_1[0][0]                    \n",
      "____________________________________________________________________________________________________\n",
      "lambda_4 (Lambda)                (None, 12)            0           input_1[0][0]                    \n",
      "____________________________________________________________________________________________________\n",
      "lambda_5 (Lambda)                (None, 12)            0           input_1[0][0]                    \n",
      "____________________________________________________________________________________________________\n",
      "lambda_6 (Lambda)                (None, 12)            0           input_1[0][0]                    \n",
      "____________________________________________________________________________________________________\n",
      "lambda_7 (Lambda)                (None, 12)            0           input_1[0][0]                    \n",
      "____________________________________________________________________________________________________\n",
      "lambda_8 (Lambda)                (None, 12)            0           input_1[0][0]                    \n",
      "____________________________________________________________________________________________________\n",
      "lambda_9 (Lambda)                (None, 12)            0           input_1[0][0]                    \n",
      "____________________________________________________________________________________________________\n",
      "lambda_10 (Lambda)               (None, 12)            0           input_1[0][0]                    \n",
      "____________________________________________________________________________________________________\n",
      "dense_1 (Dense)                  (None, 12)            204         simple_rnn_1[0][0]               \n",
      "                                                                   simple_rnn_1[1][0]               \n",
      "                                                                   simple_rnn_1[2][0]               \n",
      "                                                                   simple_rnn_1[3][0]               \n",
      "                                                                   simple_rnn_1[4][0]               \n",
      "                                                                   simple_rnn_1[5][0]               \n",
      "                                                                   simple_rnn_1[6][0]               \n",
      "                                                                   simple_rnn_1[7][0]               \n",
      "                                                                   simple_rnn_1[8][0]               \n",
      "                                                                   simple_rnn_1[9][0]               \n",
      "====================================================================================================\n",
      "Total params: 668\n",
      "Trainable params: 668\n",
      "Non-trainable params: 0\n",
      "____________________________________________________________________________________________________\n"
     ]
    }
   ],
   "source": [
    "model = train_model(Tx = maxlen , n_a = n_a, n_values = vocab_size)\n",
    "opt = Adam(lr=0.001) #optimizer\n",
    "model.compile(optimizer=opt, loss='categorical_crossentropy', metrics=['accuracy'])\n",
    "model.summary()"
   ]
  },
  {
   "cell_type": "markdown",
   "metadata": {},
   "source": [
    "### inference model"
   ]
  },
  {
   "cell_type": "code",
   "execution_count": 11,
   "metadata": {
    "collapsed": true
   },
   "outputs": [],
   "source": [
    "def inference_model(RNN_cell, output_layer, n_values = vocab_size ,n_a = n_a, Ty = maxlen):\n",
    "    \"\"\"\n",
    "    Implement the model for inferencing/testing phase using the parameters learned from the previous steps\n",
    "    \n",
    "    Arguments:\n",
    "    RNN_cell -- the trained \"RNN_cell\" from train_model(), Keras layer object\n",
    "    output_layer -- the trained \"output_layer\" from train_model(), Keras layer object\n",
    "    n_values -- mumber of unique characters\n",
    "    n_a -- number of dimensions in RNN_Cell\n",
    "    Ty -- number of time steps to generate\n",
    "    \n",
    "    Returns:\n",
    "    inference_model -- Keras model instance\n",
    "    \"\"\"\n",
    "    \n",
    "    # Define the input of your model\n",
    "    x0 = Input(shape=(1, n_values))\n",
    "    \n",
    "    # Define a0, initial hidden state for the decoder RNN\n",
    "    a0 = Input(shape=(n_a,), name='a0')\n",
    "    a = a0\n",
    "    x = x0\n",
    "\n",
    "    # Create an empty list of \"outputs\" to stored the predicted outputs\n",
    "    outputs = list()\n",
    "    \n",
    "    #Loop over Ty and generate a value at each time step\n",
    "    for t in range(Ty):\n",
    "        \n",
    "        # Perform one step of RNN_cell \n",
    "        a, _ = RNN_cell(x, initial_state=[a])\n",
    "        \n",
    "        # Apply Dense softmax layer to the hidden state output of the RNN_cell\n",
    "        out = output_layer(a)\n",
    "\n",
    "        # Append an output list with the current output\n",
    "        outputs.append(out)\n",
    "        \n",
    "        # Sample the new value to pass to the next time step\n",
    "        #tf.log because tf.multinomail wants unnormalized log-prob inputs\n",
    "        x  = Lambda(lambda x: one_hot(tf.multinomial(tf.log(x), 1), num_classes=vocab_size))(out)\n",
    "        x = Reshape((1,vocab_size))(x)\n",
    "  \n",
    "    #Create the model instance\n",
    "    inference_model = Model(inputs=[x0,a0], outputs=outputs)\n",
    "    \n",
    "    return inference_model"
   ]
  },
  {
   "cell_type": "code",
   "execution_count": 12,
   "metadata": {},
   "outputs": [],
   "source": [
    "inference_model = inference_model(RNN_cell, output_layer, n_values = vocab_size, n_a = n_a, Ty = maxlen)"
   ]
  },
  {
   "cell_type": "code",
   "execution_count": 13,
   "metadata": {
    "scrolled": true
   },
   "outputs": [
    {
     "name": "stdout",
     "output_type": "stream",
     "text": [
      "____________________________________________________________________________________________________\n",
      "Layer (type)                     Output Shape          Param #     Connected to                     \n",
      "====================================================================================================\n",
      "input_2 (InputLayer)             (None, 1, 12)         0                                            \n",
      "____________________________________________________________________________________________________\n",
      "a0 (InputLayer)                  (None, 16)            0                                            \n",
      "____________________________________________________________________________________________________\n",
      "simple_rnn_1 (SimpleRNN)         [(None, 16), (None, 1 464         input_2[0][0]                    \n",
      "                                                                   a0[0][0]                         \n",
      "                                                                   reshape_2[0][0]                  \n",
      "                                                                   simple_rnn_1[10][0]              \n",
      "                                                                   reshape_3[0][0]                  \n",
      "                                                                   simple_rnn_1[11][0]              \n",
      "                                                                   reshape_4[0][0]                  \n",
      "                                                                   simple_rnn_1[12][0]              \n",
      "                                                                   reshape_5[0][0]                  \n",
      "                                                                   simple_rnn_1[13][0]              \n",
      "                                                                   reshape_6[0][0]                  \n",
      "                                                                   simple_rnn_1[14][0]              \n",
      "                                                                   reshape_7[0][0]                  \n",
      "                                                                   simple_rnn_1[15][0]              \n",
      "                                                                   reshape_8[0][0]                  \n",
      "                                                                   simple_rnn_1[16][0]              \n",
      "                                                                   reshape_9[0][0]                  \n",
      "                                                                   simple_rnn_1[17][0]              \n",
      "                                                                   reshape_10[0][0]                 \n",
      "                                                                   simple_rnn_1[18][0]              \n",
      "____________________________________________________________________________________________________\n",
      "dense_1 (Dense)                  (None, 12)            204         simple_rnn_1[10][0]              \n",
      "                                                                   simple_rnn_1[11][0]              \n",
      "                                                                   simple_rnn_1[12][0]              \n",
      "                                                                   simple_rnn_1[13][0]              \n",
      "                                                                   simple_rnn_1[14][0]              \n",
      "                                                                   simple_rnn_1[15][0]              \n",
      "                                                                   simple_rnn_1[16][0]              \n",
      "                                                                   simple_rnn_1[17][0]              \n",
      "                                                                   simple_rnn_1[18][0]              \n",
      "                                                                   simple_rnn_1[19][0]              \n",
      "____________________________________________________________________________________________________\n",
      "lambda_11 (Lambda)               (None, 1, 12)         0           dense_1[10][0]                   \n",
      "____________________________________________________________________________________________________\n",
      "reshape_2 (Reshape)              (None, 1, 12)         0           lambda_11[0][0]                  \n",
      "____________________________________________________________________________________________________\n",
      "lambda_12 (Lambda)               (None, 1, 12)         0           dense_1[11][0]                   \n",
      "____________________________________________________________________________________________________\n",
      "reshape_3 (Reshape)              (None, 1, 12)         0           lambda_12[0][0]                  \n",
      "____________________________________________________________________________________________________\n",
      "lambda_13 (Lambda)               (None, 1, 12)         0           dense_1[12][0]                   \n",
      "____________________________________________________________________________________________________\n",
      "reshape_4 (Reshape)              (None, 1, 12)         0           lambda_13[0][0]                  \n",
      "____________________________________________________________________________________________________\n",
      "lambda_14 (Lambda)               (None, 1, 12)         0           dense_1[13][0]                   \n",
      "____________________________________________________________________________________________________\n",
      "reshape_5 (Reshape)              (None, 1, 12)         0           lambda_14[0][0]                  \n",
      "____________________________________________________________________________________________________\n",
      "lambda_15 (Lambda)               (None, 1, 12)         0           dense_1[14][0]                   \n",
      "____________________________________________________________________________________________________\n",
      "reshape_6 (Reshape)              (None, 1, 12)         0           lambda_15[0][0]                  \n",
      "____________________________________________________________________________________________________\n",
      "lambda_16 (Lambda)               (None, 1, 12)         0           dense_1[15][0]                   \n",
      "____________________________________________________________________________________________________\n",
      "reshape_7 (Reshape)              (None, 1, 12)         0           lambda_16[0][0]                  \n",
      "____________________________________________________________________________________________________\n",
      "lambda_17 (Lambda)               (None, 1, 12)         0           dense_1[16][0]                   \n",
      "____________________________________________________________________________________________________\n",
      "reshape_8 (Reshape)              (None, 1, 12)         0           lambda_17[0][0]                  \n",
      "____________________________________________________________________________________________________\n",
      "lambda_18 (Lambda)               (None, 1, 12)         0           dense_1[17][0]                   \n",
      "____________________________________________________________________________________________________\n",
      "reshape_9 (Reshape)              (None, 1, 12)         0           lambda_18[0][0]                  \n",
      "____________________________________________________________________________________________________\n",
      "lambda_19 (Lambda)               (None, 1, 12)         0           dense_1[18][0]                   \n",
      "____________________________________________________________________________________________________\n",
      "reshape_10 (Reshape)             (None, 1, 12)         0           lambda_19[0][0]                  \n",
      "====================================================================================================\n",
      "Total params: 668\n",
      "Trainable params: 668\n",
      "Non-trainable params: 0\n",
      "____________________________________________________________________________________________________\n"
     ]
    }
   ],
   "source": [
    "x_initializer = np.zeros((1, 1, vocab_size))\n",
    "a_initializer = np.zeros((1, n_a))\n",
    "inference_model.summary()"
   ]
  },
  {
   "cell_type": "code",
   "execution_count": 14,
   "metadata": {},
   "outputs": [
    {
     "name": "stdout",
     "output_type": "stream",
     "text": [
      "0\n"
     ]
    }
   ],
   "source": [
    "x_initializer[0][0][char_to_ix[\"<S>\"]]=1 #initial seed\n",
    "print(np.argmax(x_initializer[0][0]))"
   ]
  },
  {
   "cell_type": "code",
   "execution_count": 15,
   "metadata": {
    "collapsed": true
   },
   "outputs": [],
   "source": [
    "def generate_date(inference_model, x_initializer = x_initializer, a_initializer = a_initializer):\n",
    "    \"\"\"\n",
    "    generate a date using the inference model.\n",
    "    \n",
    "    Arguments:\n",
    "    inference_model -- Keras model instance for inference/test time\n",
    "    x_initializer -- numpy array of shape (1, 1, 12), one-hot vector initializing the values generation\n",
    "    a_initializer -- numpy array of shape (1, n_a), initializing the hidden state of the RNN_cell\n",
    "    \n",
    "    Returns:\n",
    "    text -- a generated text string\n",
    "    indices -- numpy-array of shape (Ty, 1), matrix of indices representing the values generated\n",
    "    \"\"\"\n",
    "    \n",
    "    #predict\n",
    "    pred = inference_model.predict([x_initializer,a_initializer])\n",
    "    #turn predictions into integers\n",
    "    indices = np.argmax(pred,axis=-1)\n",
    "    #intergers to text\n",
    "    text = \"\".join([ix_to_char[r[0]] for r in indices])\n",
    "    \n",
    "    return text"
   ]
  },
  {
   "cell_type": "code",
   "execution_count": 16,
   "metadata": {
    "collapsed": true
   },
   "outputs": [],
   "source": [
    "#Create a call back function\n",
    "def on_epoch_end(epoch, logs):\n",
    "    # Function invoked at end of each epoch. Prints generated text.\n",
    "    if(epoch%10==0):\n",
    "        print()\n",
    "        print('----- Generating text after Epoch: %d' % epoch)\n",
    "        for i in range(3):\n",
    "            text = generate_date(inference_model, x_initializer, a_initializer)\n",
    "            sys.stdout.write(text)\n",
    "            sys.stdout.flush()\n",
    "            print()\n",
    "\n",
    "print_callback = LambdaCallback(on_epoch_end=on_epoch_end)"
   ]
  },
  {
   "cell_type": "markdown",
   "metadata": {},
   "source": [
    "# Let's train the model and generate some text"
   ]
  },
  {
   "cell_type": "code",
   "execution_count": 17,
   "metadata": {},
   "outputs": [
    {
     "name": "stdout",
     "output_type": "stream",
     "text": [
      "\n",
      "----- Generating text after Epoch: 0\n",
      "---0---20-\n",
      "----0--1--\n",
      "----------\n",
      "\n",
      "----- Generating text after Epoch: 10\n",
      "2004-01-12\n",
      "2014-02-20\n",
      "201-2016-0\n",
      "\n",
      "----- Generating text after Epoch: 20\n",
      "2015-02-11\n",
      "2016-02-11\n",
      "2015-00-27\n",
      "\n",
      "----- Generating text after Epoch: 30\n",
      "2010-02-12\n",
      "2010201620\n",
      "2010-00-11\n",
      "\n",
      "----- Generating text after Epoch: 40\n",
      "2015-02-25\n",
      "22016-00-2\n",
      "2015-02-25\n",
      "\n",
      "----- Generating text after Epoch: 50\n",
      "2010-02-24\n",
      "2015-02-25\n",
      "2015-02-25\n",
      "\n",
      "----- Generating text after Epoch: 60\n",
      "2010-10-15\n",
      "2015-02-22\n",
      "2015-02-13\n",
      "\n",
      "----- Generating text after Epoch: 70\n",
      "2016-04-24\n",
      "2015-02-24\n",
      "2016-07-18\n",
      "\n",
      "----- Generating text after Epoch: 80\n",
      "2015-02-25\n",
      "2012-07-11\n",
      "2015-00-16\n",
      "\n",
      "----- Generating text after Epoch: 90\n",
      "2015-00-10\n",
      "20-0001-01\n",
      "2015-02-05\n"
     ]
    },
    {
     "data": {
      "text/plain": [
       "<keras.callbacks.History at 0x7fa305043320>"
      ]
     },
     "execution_count": 17,
     "metadata": {},
     "output_type": "execute_result"
    }
   ],
   "source": [
    "m = data_size\n",
    "a0 = np.zeros((m, n_a))\n",
    "model.fit([X, a0], list(Y),verbose=0 ,epochs=100,callbacks=[print_callback])\n"
   ]
  }
 ],
 "metadata": {
  "kernelspec": {
   "display_name": "Python 3",
   "language": "python",
   "name": "python3"
  },
  "language_info": {
   "codemirror_mode": {
    "name": "ipython",
    "version": 3
   },
   "file_extension": ".py",
   "mimetype": "text/x-python",
   "name": "python",
   "nbconvert_exporter": "python",
   "pygments_lexer": "ipython3",
   "version": "3.5.2"
  }
 },
 "nbformat": 4,
 "nbformat_minor": 2
}
