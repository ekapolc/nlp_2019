{
 "cells": [
  {
   "cell_type": "markdown",
   "metadata": {},
   "source": [
    "# Attention Mechanism Demo on Keras: Machine Translation Example (Many-to-Many, encoder-decoder)\n",
    "\n",
    "In this demo, we will show you how to create a machine translator using Keras. This demo is inspired by Andrew Ng's deeplearning.ai course on sequence models. (Programming Assignment: Neural Machine Translation with Attention)    In this demo, we create a machine translator to translate dates in various formats  into dates in an ISO format. "
   ]
  },
  {
   "cell_type": "code",
   "execution_count": 1,
   "metadata": {},
   "outputs": [
    {
     "name": "stderr",
     "output_type": "stream",
     "text": [
      "Using TensorFlow backend.\n"
     ]
    }
   ],
   "source": [
    "%matplotlib inline\n",
    "from keras.preprocessing.sequence import pad_sequences\n",
    "from keras.layers import Bidirectional, Concatenate, Permute, Dot, Input, LSTM, Multiply\n",
    "from keras.layers import RepeatVector, Dense, Activation, Lambda\n",
    "from keras.optimizers import Adam\n",
    "from keras.utils import to_categorical\n",
    "from keras.models import load_model, Model\n",
    "import keras.backend as K\n",
    "import numpy as np\n",
    "\n",
    "import random\n"
   ]
  },
  {
   "cell_type": "markdown",
   "metadata": {},
   "source": [
    "## Generate Dataset\n",
    "We generate a toy dataset using datetime library.  A target output only comes in one format (iso format), while there are three different date format for an input."
   ]
  },
  {
   "cell_type": "code",
   "execution_count": 2,
   "metadata": {},
   "outputs": [],
   "source": [
    "#Generating a toy dataset\n",
    "import datetime\n",
    "base = datetime.datetime.today()\n",
    "base = datetime.date(base.year, base.month, base.day)\n",
    "date_list = [base - datetime.timedelta(days=x) for x in range(0, 15000)]"
   ]
  },
  {
   "cell_type": "code",
   "execution_count": 3,
   "metadata": {},
   "outputs": [
    {
     "name": "stdout",
     "output_type": "stream",
     "text": [
      "2019-03-16\n"
     ]
    }
   ],
   "source": [
    "target_date_list = [date.isoformat() for date in date_list] \n",
    "print(target_date_list[0])"
   ]
  },
  {
   "cell_type": "code",
   "execution_count": 4,
   "metadata": {},
   "outputs": [],
   "source": [
    "from random import randint\n",
    "random.seed(42)\n",
    "input_date_list = list()\n",
    "for date in date_list:\n",
    "    random_num = randint(0, 2)\n",
    "    if random_num == 0:\n",
    "        input_date_list.append(date.strftime(\"%d/%m/%y\"))#\"11/03/02\"\n",
    "    elif random_num == 1:\n",
    "        input_date_list.append(date.strftime(\"%A %d %B %Y\")) #\"Monday 11 March 2002\"\n",
    "    elif random_num == 2: \n",
    "        input_date_list.append(date.strftime(\"%d %B %Y\")) #\"11 March 2002\""
   ]
  },
  {
   "cell_type": "code",
   "execution_count": 5,
   "metadata": {},
   "outputs": [
    {
     "name": "stdout",
     "output_type": "stream",
     "text": [
      "16 March 2019 2019-03-16\n",
      "15/03/19 2019-03-15\n",
      "14/03/19 2019-03-14\n",
      "13 March 2019 2019-03-13\n",
      "Tuesday 12 March 2019 2019-03-12\n",
      "11/03/19 2019-03-11\n",
      "10/03/19 2019-03-10\n",
      "09/03/19 2019-03-09\n",
      "08 March 2019 2019-03-08\n",
      "07/03/19 2019-03-07\n"
     ]
    }
   ],
   "source": [
    "for input_sample, target_sample in zip(input_date_list[0:10],target_date_list[0:10]):\n",
    "    print(input_sample,target_sample)"
   ]
  },
  {
   "cell_type": "code",
   "execution_count": 6,
   "metadata": {},
   "outputs": [
    {
     "name": "stdout",
     "output_type": "stream",
     "text": [
      "There are 15000 lines and 42 unique characters in your input data.\n"
     ]
    }
   ],
   "source": [
    "#Preprocessing\n",
    "input_chars = list(set(''.join(input_date_list)))\n",
    "output_chars = list(set(''.join(target_date_list)))\n",
    "# +1 for padding\n",
    "data_size, vocab_size = len(input_date_list), len(input_chars)+1 \n",
    "output_vocab_size = len(output_chars)+1\n",
    "print('There are %d lines and %d unique characters in your input data.' % (data_size, vocab_size))\n",
    "maxlen = len( max(input_date_list, key=len)) #max input length"
   ]
  },
  {
   "cell_type": "code",
   "execution_count": 7,
   "metadata": {},
   "outputs": [
    {
     "name": "stdout",
     "output_type": "stream",
     "text": [
      "Max input length: 27\n"
     ]
    }
   ],
   "source": [
    "print(\"Max input length:\", maxlen)"
   ]
  },
  {
   "cell_type": "code",
   "execution_count": 8,
   "metadata": {},
   "outputs": [
    {
     "name": "stdout",
     "output_type": "stream",
     "text": [
      "{0: '<PAD>', 1: ' ', 2: '/', 3: '0', 4: '1', 5: '2', 6: '3', 7: '4', 8: '5', 9: '6', 10: '7', 11: '8', 12: '9', 13: 'A', 14: 'D', 15: 'F', 16: 'J', 17: 'M', 18: 'N', 19: 'O', 20: 'S', 21: 'T', 22: 'W', 23: 'a', 24: 'b', 25: 'c', 26: 'd', 27: 'e', 28: 'g', 29: 'h', 30: 'i', 31: 'l', 32: 'm', 33: 'n', 34: 'o', 35: 'p', 36: 'r', 37: 's', 38: 't', 39: 'u', 40: 'v', 41: 'y'}\n"
     ]
    }
   ],
   "source": [
    "sorted_chars= sorted(input_chars)\n",
    "sorted_output_chars= sorted(output_chars)\n",
    "sorted_chars.insert(0,\"<PAD>\")#PADDING for input\n",
    "sorted_output_chars.insert(0,\"<PAD>\")#PADDING for output\n",
    "#Input\n",
    "char_to_ix = { ch:i for i,ch in enumerate(sorted_chars) }\n",
    "ix_to_char = { i:ch for i,ch in enumerate(sorted_chars) } #reverse dictionary\n",
    "#Output\n",
    "output_char_to_ix = { ch:i for i,ch in enumerate(sorted_output_chars) }\n",
    "ix_to_output_char = { i:ch for i,ch in enumerate(sorted_output_chars) } #reverse dictionary\n",
    "\n",
    "print(ix_to_char)"
   ]
  },
  {
   "cell_type": "code",
   "execution_count": 9,
   "metadata": {},
   "outputs": [],
   "source": [
    "m=15000\n",
    "Tx=maxlen\n",
    "Ty=10"
   ]
  },
  {
   "cell_type": "code",
   "execution_count": 10,
   "metadata": {},
   "outputs": [
    {
     "name": "stdout",
     "output_type": "stream",
     "text": [
      "(15000, 27, 42) (15000, 10, 12)\n"
     ]
    }
   ],
   "source": [
    "X = []\n",
    "for line in input_date_list:\n",
    "    temp=[]\n",
    "    for char in line:\n",
    "        temp.append(char_to_ix[char])\n",
    "    X.append(temp)\n",
    "Y = []\n",
    "for line in target_date_list:\n",
    "    temp=[]\n",
    "    for char in line:\n",
    "        temp.append(output_char_to_ix[char])\n",
    "    Y.append(temp)    \n",
    "\n",
    "X = pad_sequences(X,maxlen=maxlen)\n",
    "# Y = pad_sequences(Y,maxlen=10)\n",
    "\n",
    "X= to_categorical(X,vocab_size)\n",
    "X=X.reshape(data_size,maxlen ,vocab_size)\n",
    "\n",
    "Y= to_categorical(Y,output_vocab_size)\n",
    "Y=Y.reshape(data_size,10 ,output_vocab_size)\n",
    "print(X.shape,Y.shape)"
   ]
  },
  {
   "cell_type": "markdown",
   "metadata": {},
   "source": [
    "# Attention Mechanism\n",
    "![attn_mech](https://raw.githubusercontent.com/ekapolc/nlp_2019/master/HW8/images/attn_mech.png)"
   ]
  },
  {
   "cell_type": "code",
   "execution_count": 11,
   "metadata": {},
   "outputs": [],
   "source": [
    "from keras.activations import softmax\n",
    "def softMaxAxis1(x):\n",
    "    return softmax(x,axis=1)\n"
   ]
  },
  {
   "cell_type": "code",
   "execution_count": 12,
   "metadata": {},
   "outputs": [],
   "source": [
    "#These are global variables (shared layers)\n",
    "repeator = RepeatVector(Tx)\n",
    "concatenator = Concatenate(axis=-1)\n",
    "#Attention function###\n",
    "fattn_1 = Dense(10, activation = \"tanh\")\n",
    "fattn_2 = Dense(1, activation = \"relu\")\n",
    "###\n",
    "activator = Activation(softMaxAxis1, name='attention_scores') \n",
    "dotor = Dot(axes = 1)"
   ]
  },
  {
   "cell_type": "code",
   "execution_count": 13,
   "metadata": {},
   "outputs": [],
   "source": [
    "def one_step_attention(a, s_prev):\n",
    "\n",
    "    # Repeat the decoder hidden state to concat with encoder hidden states\n",
    "    s_prev = repeator(s_prev)\n",
    "    concat = concatenator([a,s_prev])\n",
    "    # attention function\n",
    "    e = fattn_1(concat)\n",
    "    energies =fattn_2(e)\n",
    "    # calculate attention_scores (softmax)\n",
    "    attention_scores = activator(energies)\n",
    "    #calculate a context vector\n",
    "    context = dotor([attention_scores,a])\n",
    "\n",
    "    return context"
   ]
  },
  {
   "cell_type": "markdown",
   "metadata": {},
   "source": [
    "# The model\n",
    "![rnn_model](https://raw.githubusercontent.com/ekapolc/nlp_2019/master/HW8/images/rnn_date.png)"
   ]
  },
  {
   "cell_type": "code",
   "execution_count": 14,
   "metadata": {},
   "outputs": [],
   "source": [
    "n_h = 32 #hidden dimensions for encoder \n",
    "n_s = 64 #hidden dimensions for decoder\n",
    "decoder_LSTM_cell = LSTM(n_s, return_state = True) #decoder_LSTM_cell\n",
    "output_layer = Dense(output_vocab_size, activation=\"softmax\") #softmax output layer"
   ]
  },
  {
   "cell_type": "code",
   "execution_count": 15,
   "metadata": {},
   "outputs": [],
   "source": [
    "def model(Tx, Ty, n_h, n_s, vocab_size, machine_vocab_size):\n",
    "    \"\"\"\n",
    "    Arguments:\n",
    "    Tx -- length of the input sequence\n",
    "    Ty -- length of the output sequence\n",
    "    n_h -- hidden state size of the Bi-LSTM\n",
    "    n_s -- hidden state size of the post-attention LSTM\n",
    "    vocab_size -- size of the input vocab\n",
    "    output_vocab_size -- size of the output vocab\n",
    "\n",
    "    Returns:\n",
    "    model -- Keras model instance\n",
    "    \"\"\"\n",
    "    \n",
    "    # Define the input of your model\n",
    "    X = Input(shape=(Tx, vocab_size))\n",
    "    # Define hidden state and cell state for decoder_LSTM_Cell\n",
    "    s0 = Input(shape=(n_s,), name='s0')\n",
    "    c0 = Input(shape=(n_s,), name='c0')\n",
    "    s = s0\n",
    "    c = c0\n",
    "    \n",
    "    # Initialize empty list of outputs\n",
    "    outputs = list()\n",
    "\n",
    "    #Encoder Bi-LSTM\n",
    "    h = Bidirectional(LSTM(n_h, return_sequences=True),input_shape=(m, Tx, n_h*2))(X)\n",
    "  \n",
    "    #Iterate for Ty steps (Decoding)\n",
    "    for t in range(Ty):\n",
    "    \n",
    "        #Perform one step of the attention mechanism to calculate the context vector at timestep t\n",
    "        context = one_step_attention(h, s)\n",
    "       \n",
    "        # Feed the context vector to the decoder LSTM cell\n",
    "        s, _, c = decoder_LSTM_cell(context,initial_state=[s,c])\n",
    "           \n",
    "        # Pass the decoder hidden output to the output layer (softmax)\n",
    "        out = output_layer(s)\n",
    "        \n",
    "        # Append an output list with the current output\n",
    "        outputs.append(out)\n",
    "    \n",
    "    #Create model instance\n",
    "    model = Model(inputs=[X,s0,c0],outputs=outputs)\n",
    "    \n",
    "    return model"
   ]
  },
  {
   "cell_type": "code",
   "execution_count": 16,
   "metadata": {},
   "outputs": [],
   "source": [
    "model = model(Tx, Ty, n_h, n_s, vocab_size, output_vocab_size)"
   ]
  },
  {
   "cell_type": "code",
   "execution_count": 17,
   "metadata": {},
   "outputs": [
    {
     "name": "stdout",
     "output_type": "stream",
     "text": [
      "__________________________________________________________________________________________________\n",
      "Layer (type)                    Output Shape         Param #     Connected to                     \n",
      "==================================================================================================\n",
      "input_1 (InputLayer)            (None, 27, 42)       0                                            \n",
      "__________________________________________________________________________________________________\n",
      "s0 (InputLayer)                 (None, 64)           0                                            \n",
      "__________________________________________________________________________________________________\n",
      "bidirectional_1 (Bidirectional) (None, 27, 64)       19200       input_1[0][0]                    \n",
      "__________________________________________________________________________________________________\n",
      "repeat_vector_1 (RepeatVector)  (None, 27, 64)       0           s0[0][0]                         \n",
      "                                                                 lstm_1[0][0]                     \n",
      "                                                                 lstm_1[1][0]                     \n",
      "                                                                 lstm_1[2][0]                     \n",
      "                                                                 lstm_1[3][0]                     \n",
      "                                                                 lstm_1[4][0]                     \n",
      "                                                                 lstm_1[5][0]                     \n",
      "                                                                 lstm_1[6][0]                     \n",
      "                                                                 lstm_1[7][0]                     \n",
      "                                                                 lstm_1[8][0]                     \n",
      "__________________________________________________________________________________________________\n",
      "concatenate_1 (Concatenate)     (None, 27, 128)      0           bidirectional_1[0][0]            \n",
      "                                                                 repeat_vector_1[0][0]            \n",
      "                                                                 bidirectional_1[0][0]            \n",
      "                                                                 repeat_vector_1[1][0]            \n",
      "                                                                 bidirectional_1[0][0]            \n",
      "                                                                 repeat_vector_1[2][0]            \n",
      "                                                                 bidirectional_1[0][0]            \n",
      "                                                                 repeat_vector_1[3][0]            \n",
      "                                                                 bidirectional_1[0][0]            \n",
      "                                                                 repeat_vector_1[4][0]            \n",
      "                                                                 bidirectional_1[0][0]            \n",
      "                                                                 repeat_vector_1[5][0]            \n",
      "                                                                 bidirectional_1[0][0]            \n",
      "                                                                 repeat_vector_1[6][0]            \n",
      "                                                                 bidirectional_1[0][0]            \n",
      "                                                                 repeat_vector_1[7][0]            \n",
      "                                                                 bidirectional_1[0][0]            \n",
      "                                                                 repeat_vector_1[8][0]            \n",
      "                                                                 bidirectional_1[0][0]            \n",
      "                                                                 repeat_vector_1[9][0]            \n",
      "__________________________________________________________________________________________________\n",
      "dense_1 (Dense)                 (None, 27, 10)       1290        concatenate_1[0][0]              \n",
      "                                                                 concatenate_1[1][0]              \n",
      "                                                                 concatenate_1[2][0]              \n",
      "                                                                 concatenate_1[3][0]              \n",
      "                                                                 concatenate_1[4][0]              \n",
      "                                                                 concatenate_1[5][0]              \n",
      "                                                                 concatenate_1[6][0]              \n",
      "                                                                 concatenate_1[7][0]              \n",
      "                                                                 concatenate_1[8][0]              \n",
      "                                                                 concatenate_1[9][0]              \n",
      "__________________________________________________________________________________________________\n",
      "dense_2 (Dense)                 (None, 27, 1)        11          dense_1[0][0]                    \n",
      "                                                                 dense_1[1][0]                    \n",
      "                                                                 dense_1[2][0]                    \n",
      "                                                                 dense_1[3][0]                    \n",
      "                                                                 dense_1[4][0]                    \n",
      "                                                                 dense_1[5][0]                    \n",
      "                                                                 dense_1[6][0]                    \n",
      "                                                                 dense_1[7][0]                    \n",
      "                                                                 dense_1[8][0]                    \n",
      "                                                                 dense_1[9][0]                    \n",
      "__________________________________________________________________________________________________\n",
      "attention_scores (Activation)   (None, 27, 1)        0           dense_2[0][0]                    \n",
      "                                                                 dense_2[1][0]                    \n",
      "                                                                 dense_2[2][0]                    \n",
      "                                                                 dense_2[3][0]                    \n",
      "                                                                 dense_2[4][0]                    \n",
      "                                                                 dense_2[5][0]                    \n",
      "                                                                 dense_2[6][0]                    \n",
      "                                                                 dense_2[7][0]                    \n",
      "                                                                 dense_2[8][0]                    \n",
      "                                                                 dense_2[9][0]                    \n",
      "__________________________________________________________________________________________________\n",
      "dot_1 (Dot)                     (None, 1, 64)        0           attention_scores[0][0]           \n",
      "                                                                 bidirectional_1[0][0]            \n",
      "                                                                 attention_scores[1][0]           \n",
      "                                                                 bidirectional_1[0][0]            \n",
      "                                                                 attention_scores[2][0]           \n",
      "                                                                 bidirectional_1[0][0]            \n",
      "                                                                 attention_scores[3][0]           \n",
      "                                                                 bidirectional_1[0][0]            \n",
      "                                                                 attention_scores[4][0]           \n",
      "                                                                 bidirectional_1[0][0]            \n",
      "                                                                 attention_scores[5][0]           \n",
      "                                                                 bidirectional_1[0][0]            \n",
      "                                                                 attention_scores[6][0]           \n",
      "                                                                 bidirectional_1[0][0]            \n",
      "                                                                 attention_scores[7][0]           \n",
      "                                                                 bidirectional_1[0][0]            \n",
      "                                                                 attention_scores[8][0]           \n",
      "                                                                 bidirectional_1[0][0]            \n",
      "                                                                 attention_scores[9][0]           \n",
      "                                                                 bidirectional_1[0][0]            \n",
      "__________________________________________________________________________________________________\n",
      "c0 (InputLayer)                 (None, 64)           0                                            \n",
      "__________________________________________________________________________________________________\n",
      "lstm_1 (LSTM)                   [(None, 64), (None,  33024       dot_1[0][0]                      \n",
      "                                                                 s0[0][0]                         \n",
      "                                                                 c0[0][0]                         \n",
      "                                                                 dot_1[1][0]                      \n",
      "                                                                 lstm_1[0][0]                     \n",
      "                                                                 lstm_1[0][2]                     \n",
      "                                                                 dot_1[2][0]                      \n",
      "                                                                 lstm_1[1][0]                     \n",
      "                                                                 lstm_1[1][2]                     \n",
      "                                                                 dot_1[3][0]                      \n",
      "                                                                 lstm_1[2][0]                     \n",
      "                                                                 lstm_1[2][2]                     \n",
      "                                                                 dot_1[4][0]                      \n",
      "                                                                 lstm_1[3][0]                     \n",
      "                                                                 lstm_1[3][2]                     \n",
      "                                                                 dot_1[5][0]                      \n",
      "                                                                 lstm_1[4][0]                     \n",
      "                                                                 lstm_1[4][2]                     \n",
      "                                                                 dot_1[6][0]                      \n",
      "                                                                 lstm_1[5][0]                     \n",
      "                                                                 lstm_1[5][2]                     \n",
      "                                                                 dot_1[7][0]                      \n",
      "                                                                 lstm_1[6][0]                     \n",
      "                                                                 lstm_1[6][2]                     \n",
      "                                                                 dot_1[8][0]                      \n",
      "                                                                 lstm_1[7][0]                     \n",
      "                                                                 lstm_1[7][2]                     \n",
      "                                                                 dot_1[9][0]                      \n",
      "                                                                 lstm_1[8][0]                     \n",
      "                                                                 lstm_1[8][2]                     \n",
      "__________________________________________________________________________________________________\n",
      "dense_3 (Dense)                 (None, 12)           780         lstm_1[0][0]                     \n",
      "                                                                 lstm_1[1][0]                     \n",
      "                                                                 lstm_1[2][0]                     \n",
      "                                                                 lstm_1[3][0]                     \n",
      "                                                                 lstm_1[4][0]                     \n",
      "                                                                 lstm_1[5][0]                     \n",
      "                                                                 lstm_1[6][0]                     \n",
      "                                                                 lstm_1[7][0]                     \n",
      "                                                                 lstm_1[8][0]                     \n",
      "                                                                 lstm_1[9][0]                     \n",
      "==================================================================================================\n",
      "Total params: 54,305\n",
      "Trainable params: 54,305\n",
      "Non-trainable params: 0\n",
      "__________________________________________________________________________________________________\n"
     ]
    }
   ],
   "source": [
    "model.summary()"
   ]
  },
  {
   "cell_type": "code",
   "execution_count": 18,
   "metadata": {},
   "outputs": [],
   "source": [
    "opt = Adam(lr= 0.01, decay = 0.01)\n",
    "model.compile(loss='categorical_crossentropy',optimizer=opt,metrics=['accuracy'])"
   ]
  },
  {
   "cell_type": "code",
   "execution_count": 19,
   "metadata": {},
   "outputs": [],
   "source": [
    "s0 = np.zeros((m, n_s))\n",
    "c0 = np.zeros((m, n_s))\n",
    "outputs = list(Y.swapaxes(0,1))"
   ]
  },
  {
   "cell_type": "code",
   "execution_count": 20,
   "metadata": {},
   "outputs": [
    {
     "name": "stdout",
     "output_type": "stream",
     "text": [
      "Epoch 1/20\n",
      "15000/15000 [==============================] - 45s 3ms/step - loss: 12.2449 - dense_3_loss: 2.4494 - dense_3_acc: 0.7497 - dense_3_acc_1: 0.8151 - dense_3_acc_2: 0.5559 - dense_3_acc_3: 0.2339 - dense_3_acc_4: 0.9607 - dense_3_acc_5: 0.5849 - dense_3_acc_6: 0.2117 - dense_3_acc_7: 0.9528 - dense_3_acc_8: 0.3005 - dense_3_acc_9: 0.1097\n",
      "Epoch 2/20\n",
      "15000/15000 [==============================] - 33s 2ms/step - loss: 5.6089 - dense_3_loss: 2.1789 - dense_3_acc: 0.9810 - dense_3_acc_1: 0.9798 - dense_3_acc_2: 0.8418 - dense_3_acc_3: 0.8247 - dense_3_acc_4: 1.0000 - dense_3_acc_5: 0.9361 - dense_3_acc_6: 0.6757 - dense_3_acc_7: 0.9999 - dense_3_acc_8: 0.5347 - dense_3_acc_9: 0.1817\n",
      "Epoch 3/20\n",
      "15000/15000 [==============================] - 32s 2ms/step - loss: 2.8645 - dense_3_loss: 1.4184 - dense_3_acc: 0.9946 - dense_3_acc_1: 0.9962 - dense_3_acc_2: 0.9041 - dense_3_acc_3: 0.9795 - dense_3_acc_4: 1.0000 - dense_3_acc_5: 0.9697 - dense_3_acc_6: 0.9093 - dense_3_acc_7: 0.9997 - dense_3_acc_8: 0.8151 - dense_3_acc_9: 0.4836\n",
      "Epoch 4/20\n",
      "15000/15000 [==============================] - 32s 2ms/step - loss: 1.1357 - dense_3_loss: 0.4863 - dense_3_acc: 0.9991 - dense_3_acc_1: 1.0000 - dense_3_acc_2: 0.9823 - dense_3_acc_3: 0.9985 - dense_3_acc_4: 1.0000 - dense_3_acc_5: 0.9822 - dense_3_acc_6: 0.9684 - dense_3_acc_7: 0.9999 - dense_3_acc_8: 0.9330 - dense_3_acc_9: 0.8568\n",
      "Epoch 5/20\n",
      "15000/15000 [==============================] - 32s 2ms/step - loss: 0.4730 - dense_3_loss: 0.1950 - dense_3_acc: 1.0000 - dense_3_acc_1: 1.0000 - dense_3_acc_2: 0.9995 - dense_3_acc_3: 1.0000 - dense_3_acc_4: 1.0000 - dense_3_acc_5: 0.9930 - dense_3_acc_6: 0.9928 - dense_3_acc_7: 1.0000 - dense_3_acc_8: 0.9949 - dense_3_acc_9: 0.9681\n",
      "Epoch 6/20\n",
      "15000/15000 [==============================] - 32s 2ms/step - loss: 0.2211 - dense_3_loss: 0.0834 - dense_3_acc: 1.0000 - dense_3_acc_1: 1.0000 - dense_3_acc_2: 1.0000 - dense_3_acc_3: 1.0000 - dense_3_acc_4: 1.0000 - dense_3_acc_5: 0.9982 - dense_3_acc_6: 0.9990 - dense_3_acc_7: 1.0000 - dense_3_acc_8: 0.9996 - dense_3_acc_9: 0.9958\n",
      "Epoch 7/20\n",
      "15000/15000 [==============================] - 32s 2ms/step - loss: 0.1252 - dense_3_loss: 0.0417 - dense_3_acc: 1.0000 - dense_3_acc_1: 1.0000 - dense_3_acc_2: 1.0000 - dense_3_acc_3: 1.0000 - dense_3_acc_4: 1.0000 - dense_3_acc_5: 0.9997 - dense_3_acc_6: 0.9999 - dense_3_acc_7: 1.0000 - dense_3_acc_8: 0.9999 - dense_3_acc_9: 0.9997\n",
      "Epoch 8/20\n",
      "15000/15000 [==============================] - 32s 2ms/step - loss: 0.0826 - dense_3_loss: 0.0246 - dense_3_acc: 1.0000 - dense_3_acc_1: 1.0000 - dense_3_acc_2: 1.0000 - dense_3_acc_3: 1.0000 - dense_3_acc_4: 1.0000 - dense_3_acc_5: 1.0000 - dense_3_acc_6: 1.0000 - dense_3_acc_7: 1.0000 - dense_3_acc_8: 1.0000 - dense_3_acc_9: 1.0000\n",
      "Epoch 9/20\n",
      "15000/15000 [==============================] - 33s 2ms/step - loss: 0.0602 - dense_3_loss: 0.0166 - dense_3_acc: 1.0000 - dense_3_acc_1: 1.0000 - dense_3_acc_2: 1.0000 - dense_3_acc_3: 1.0000 - dense_3_acc_4: 1.0000 - dense_3_acc_5: 1.0000 - dense_3_acc_6: 1.0000 - dense_3_acc_7: 1.0000 - dense_3_acc_8: 1.0000 - dense_3_acc_9: 1.0000\n",
      "Epoch 10/20\n",
      "15000/15000 [==============================] - 32s 2ms/step - loss: 0.0472 - dense_3_loss: 0.0123 - dense_3_acc: 1.0000 - dense_3_acc_1: 1.0000 - dense_3_acc_2: 1.0000 - dense_3_acc_3: 1.0000 - dense_3_acc_4: 1.0000 - dense_3_acc_5: 1.0000 - dense_3_acc_6: 1.0000 - dense_3_acc_7: 1.0000 - dense_3_acc_8: 1.0000 - dense_3_acc_9: 1.0000\n",
      "Epoch 11/20\n",
      "15000/15000 [==============================] - 33s 2ms/step - loss: 0.0387 - dense_3_loss: 0.0097 - dense_3_acc: 1.0000 - dense_3_acc_1: 1.0000 - dense_3_acc_2: 1.0000 - dense_3_acc_3: 1.0000 - dense_3_acc_4: 1.0000 - dense_3_acc_5: 1.0000 - dense_3_acc_6: 1.0000 - dense_3_acc_7: 1.0000 - dense_3_acc_8: 1.0000 - dense_3_acc_9: 1.0000\n",
      "Epoch 12/20\n",
      "15000/15000 [==============================] - 32s 2ms/step - loss: 0.0326 - dense_3_loss: 0.0079 - dense_3_acc: 1.0000 - dense_3_acc_1: 1.0000 - dense_3_acc_2: 1.0000 - dense_3_acc_3: 1.0000 - dense_3_acc_4: 1.0000 - dense_3_acc_5: 1.0000 - dense_3_acc_6: 1.0000 - dense_3_acc_7: 1.0000 - dense_3_acc_8: 1.0000 - dense_3_acc_9: 1.0000\n",
      "Epoch 13/20\n",
      "15000/15000 [==============================] - 32s 2ms/step - loss: 0.0281 - dense_3_loss: 0.0066 - dense_3_acc: 1.0000 - dense_3_acc_1: 1.0000 - dense_3_acc_2: 1.0000 - dense_3_acc_3: 1.0000 - dense_3_acc_4: 1.0000 - dense_3_acc_5: 1.0000 - dense_3_acc_6: 1.0000 - dense_3_acc_7: 1.0000 - dense_3_acc_8: 1.0000 - dense_3_acc_9: 1.0000\n",
      "Epoch 14/20\n",
      "15000/15000 [==============================] - 32s 2ms/step - loss: 0.0246 - dense_3_loss: 0.0057 - dense_3_acc: 1.0000 - dense_3_acc_1: 1.0000 - dense_3_acc_2: 1.0000 - dense_3_acc_3: 1.0000 - dense_3_acc_4: 1.0000 - dense_3_acc_5: 1.0000 - dense_3_acc_6: 1.0000 - dense_3_acc_7: 1.0000 - dense_3_acc_8: 1.0000 - dense_3_acc_9: 1.0000\n",
      "Epoch 15/20\n",
      "15000/15000 [==============================] - 32s 2ms/step - loss: 0.0219 - dense_3_loss: 0.0049 - dense_3_acc: 1.0000 - dense_3_acc_1: 1.0000 - dense_3_acc_2: 1.0000 - dense_3_acc_3: 1.0000 - dense_3_acc_4: 1.0000 - dense_3_acc_5: 1.0000 - dense_3_acc_6: 1.0000 - dense_3_acc_7: 1.0000 - dense_3_acc_8: 1.0000 - dense_3_acc_9: 1.0000\n",
      "Epoch 16/20\n",
      "15000/15000 [==============================] - 33s 2ms/step - loss: 0.0196 - dense_3_loss: 0.0044 - dense_3_acc: 1.0000 - dense_3_acc_1: 1.0000 - dense_3_acc_2: 1.0000 - dense_3_acc_3: 1.0000 - dense_3_acc_4: 1.0000 - dense_3_acc_5: 1.0000 - dense_3_acc_6: 1.0000 - dense_3_acc_7: 1.0000 - dense_3_acc_8: 1.0000 - dense_3_acc_9: 1.0000\n",
      "Epoch 17/20\n",
      "15000/15000 [==============================] - 32s 2ms/step - loss: 0.0177 - dense_3_loss: 0.0039 - dense_3_acc: 1.0000 - dense_3_acc_1: 1.0000 - dense_3_acc_2: 1.0000 - dense_3_acc_3: 1.0000 - dense_3_acc_4: 1.0000 - dense_3_acc_5: 1.0000 - dense_3_acc_6: 1.0000 - dense_3_acc_7: 1.0000 - dense_3_acc_8: 1.0000 - dense_3_acc_9: 1.0000\n",
      "Epoch 18/20\n",
      "15000/15000 [==============================] - 32s 2ms/step - loss: 0.0162 - dense_3_loss: 0.0035 - dense_3_acc: 1.0000 - dense_3_acc_1: 1.0000 - dense_3_acc_2: 1.0000 - dense_3_acc_3: 1.0000 - dense_3_acc_4: 1.0000 - dense_3_acc_5: 1.0000 - dense_3_acc_6: 1.0000 - dense_3_acc_7: 1.0000 - dense_3_acc_8: 1.0000 - dense_3_acc_9: 1.0000\n",
      "Epoch 19/20\n",
      "15000/15000 [==============================] - 33s 2ms/step - loss: 0.0148 - dense_3_loss: 0.0032 - dense_3_acc: 1.0000 - dense_3_acc_1: 1.0000 - dense_3_acc_2: 1.0000 - dense_3_acc_3: 1.0000 - dense_3_acc_4: 1.0000 - dense_3_acc_5: 1.0000 - dense_3_acc_6: 1.0000 - dense_3_acc_7: 1.0000 - dense_3_acc_8: 1.0000 - dense_3_acc_9: 1.0000\n",
      "Epoch 20/20\n",
      "15000/15000 [==============================] - 32s 2ms/step - loss: 0.0136 - dense_3_loss: 0.0029 - dense_3_acc: 1.0000 - dense_3_acc_1: 1.0000 - dense_3_acc_2: 1.0000 - dense_3_acc_3: 1.0000 - dense_3_acc_4: 1.0000 - dense_3_acc_5: 1.0000 - dense_3_acc_6: 1.0000 - dense_3_acc_7: 1.0000 - dense_3_acc_8: 1.0000 - dense_3_acc_9: 1.0000\n"
     ]
    },
    {
     "data": {
      "text/plain": [
       "<keras.callbacks.History at 0x7f1cc0c2cdd8>"
      ]
     },
     "execution_count": 20,
     "metadata": {},
     "output_type": "execute_result"
    }
   ],
   "source": [
    "model.fit([X, s0, c0], outputs, epochs=20, batch_size=120)"
   ]
  },
  {
   "cell_type": "markdown",
   "metadata": {},
   "source": [
    "# Let's do some \"translation\""
   ]
  },
  {
   "cell_type": "code",
   "execution_count": 21,
   "metadata": {},
   "outputs": [
    {
     "name": "stdout",
     "output_type": "stream",
     "text": [
      "1999-05-33\n",
      "2009-10-05\n",
      "2016-08-30\n",
      "2000-07-11\n",
      "2018-05-19\n",
      "2001-03-30\n",
      "2001-03-11\n"
     ]
    }
   ],
   "source": [
    "def prep_input(input_list):\n",
    "    X = []\n",
    "    for line in input_list:\n",
    "        temp=[]\n",
    "        for char in line:\n",
    "            temp.append(char_to_ix[char])\n",
    "        X.append(temp)\n",
    "    X = pad_sequences(X,maxlen=maxlen)\n",
    "    X= to_categorical(X,vocab_size)\n",
    "    X=X.reshape(len(input_list),maxlen ,vocab_size)\n",
    "    \n",
    "    return X\n",
    "\n",
    "EXAMPLES = ['3 May 1999', '05 October 2009', '30 August 2016', '11 July 2000', 'Saturday 19 May 2018', '3 March 2001', '1 March 2001']\n",
    "EXAMPLES = prep_input(EXAMPLES)\n",
    "prediction = model.predict([EXAMPLES , s0, c0])\n",
    "prediction = np.swapaxes(prediction,0,1)\n",
    "prediction = np.argmax(prediction, axis = -1)\n",
    "\n",
    "for j in range(len(prediction)):\n",
    "    output = \"\".join([ix_to_output_char[int(i)] for i in prediction[j]])\n",
    "    print(output)"
   ]
  }
 ],
 "metadata": {
  "kernelspec": {
   "display_name": "Python 3",
   "language": "python",
   "name": "python3"
  },
  "language_info": {
   "codemirror_mode": {
    "name": "ipython",
    "version": 3
   },
   "file_extension": ".py",
   "mimetype": "text/x-python",
   "name": "python",
   "nbconvert_exporter": "python",
   "pygments_lexer": "ipython3",
   "version": "3.5.2"
  }
 },
 "nbformat": 4,
 "nbformat_minor": 1
}
